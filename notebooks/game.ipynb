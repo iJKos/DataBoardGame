{
 "cells": [
  {
   "cell_type": "code",
   "execution_count": 1,
   "metadata": {},
   "outputs": [],
   "source": [
    "from DataBoardGame.gamelearning import GameFarm\n",
    "from DataBoardGame.utils import set_log\n",
    "import pandas as pd\n",
    "import logging\n",
    "set_log(logging.ERROR)\n"
   ]
  },
  {
   "cell_type": "code",
   "execution_count": 2,
   "metadata": {},
   "outputs": [],
   "source": [
    "gf = GameFarm(number_of_players_per_game=4, parallel=2)    \n",
    "for i in range(1):\n",
    "    gf.learn()"
   ]
  },
  {
   "cell_type": "code",
   "execution_count": null,
   "metadata": {},
   "outputs": [],
   "source": [
    "res = []\n",
    "\n",
    "for state, actions in gf.merge_q_tables().items():\n",
    "    for action, value in actions.items():\n",
    "        if value!=0:\n",
    "            row = state.to_dict()\n",
    "            row.update(action.to_dict())\n",
    "            row['target'] = value\n",
    "            res.append(row)\n",
    "        \n",
    "df = pd.json_normalize(res)\n",
    "df"
   ]
  },
  {
   "cell_type": "code",
   "execution_count": 1,
   "metadata": {},
   "outputs": [],
   "source": [
    "from matplotlib import pyplot as plt\n",
    "from sklearn import datasets,tree\n",
    "from sklearn.tree import DecisionTreeRegressor ,DecisionTreeClassifier\n",
    "from sklearn import preprocessing\n",
    "\n",
    "\n"
   ]
  },
  {
   "cell_type": "code",
   "execution_count": null,
   "metadata": {},
   "outputs": [],
   "source": [
    "\n",
    "# getting all the columns\n",
    "my_cols = set(df.columns)\n",
    " \n",
    "# removing the desired column\n",
    "my_cols.remove('target') \n",
    "\n",
    "my_cols.remove('state_value') \n",
    "my_cols = list(my_cols)\n",
    "\n",
    "# Prepare the data data\n",
    "X = df[my_cols]\n",
    "dummy = pd.get_dummies(df['action_type'], dtype=bool)\n",
    "X = pd.concat([X, dummy], axis=1).drop('action_type', axis=1)\n",
    "\n",
    "X = X[df['target']>0]\n",
    "\n",
    "Y = df[df['target']>0][['target']]\n",
    "\n",
    "#Y = df[['target']]\n",
    "# Fit the classifier with default hyper-parameters\n",
    "clf = DecisionTreeRegressor(random_state=1234, max_depth=2)\n",
    "model = clf.fit(X, Y)\n",
    "\n",
    "fig = plt.figure(figsize=(25,20))\n",
    "_ = tree.plot_tree(clf, \n",
    "                   feature_names = X.columns,  \n",
    "                   filled=True)"
   ]
  },
  {
   "cell_type": "code",
   "execution_count": null,
   "metadata": {},
   "outputs": [],
   "source": [
    "\n",
    "# getting all the columns\n",
    "my_cols = set(df.columns)\n",
    " \n",
    "# removing the desired column\n",
    "my_cols.remove('target') \n",
    "my_cols.remove('state_value') \n",
    "my_cols.remove('action_type')\n",
    "my_cols = list(my_cols)\n",
    "\n",
    "# Prepare the data data\n",
    "X = df[df['target']>0][my_cols]\n",
    "\n",
    "Y = df[df['target']>0][['action_type']]\n",
    "# Fit the classifier with default hyper-parameters\n",
    "clf = DecisionTreeClassifier(random_state=1234, max_depth=3)\n",
    "model = clf.fit(X, Y)\n",
    "\n",
    "fig = plt.figure(figsize=(25,20))\n",
    "_ = tree.plot_tree(clf, \n",
    "                   feature_names = X.columns,  \n",
    "                   class_names= Y['action_type'].unique(),\n",
    "                   filled=True)"
   ]
  },
  {
   "cell_type": "code",
   "execution_count": null,
   "metadata": {},
   "outputs": [],
   "source": [
    "dummy"
   ]
  }
 ],
 "metadata": {
  "kernelspec": {
   "display_name": "Python 3",
   "language": "python",
   "name": "python3"
  },
  "language_info": {
   "codemirror_mode": {
    "name": "ipython",
    "version": 3
   },
   "file_extension": ".py",
   "mimetype": "text/x-python",
   "name": "python",
   "nbconvert_exporter": "python",
   "pygments_lexer": "ipython3",
   "version": "3.11.8"
  }
 },
 "nbformat": 4,
 "nbformat_minor": 2
}
